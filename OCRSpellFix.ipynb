{
 "cells": [
  {
   "cell_type": "code",
   "execution_count": 1,
   "id": "12a2d5ec",
   "metadata": {},
   "outputs": [
    {
     "name": "stdout",
     "output_type": "stream",
     "text": [
      "Requirement already satisfied: pyspellchecker in c:\\users\\dell\\anaconda3\\lib\\site-packages (0.8.1)\n",
      "Note: you may need to restart the kernel to use updated packages.\n"
     ]
    }
   ],
   "source": [
    "pip install pyspellchecker\n"
   ]
  },
  {
   "cell_type": "code",
   "execution_count": 2,
   "id": "19aa0777",
   "metadata": {},
   "outputs": [],
   "source": [
    "import pytesseract\n",
    "import cv2\n",
    "import numpy as np\n",
    "from spellchecker import SpellChecker"
   ]
  },
  {
   "cell_type": "code",
   "execution_count": 3,
   "id": "a5466eee",
   "metadata": {},
   "outputs": [],
   "source": [
    "\n",
    "# Specify Tesseract executable path\n",
    "pytesseract.pytesseract.tesseract_cmd = r\"C:\\Program Files\\Tesseract-OCR\\tesseract.exe\"\n"
   ]
  },
  {
   "cell_type": "code",
   "execution_count": 4,
   "id": "010daac5",
   "metadata": {},
   "outputs": [],
   "source": [
    "\n",
    "# Load image\n",
    "img = cv2.imread('3h.jpeg')\n"
   ]
  },
  {
   "cell_type": "code",
   "execution_count": 5,
   "id": "b600004e",
   "metadata": {},
   "outputs": [],
   "source": [
    "# Display original image\n",
    "cv2.imshow('Original Image', img)\n",
    "cv2.waitKey(0)  \n",
    "cv2.destroyAllWindows() "
   ]
  },
  {
   "cell_type": "code",
   "execution_count": 6,
   "id": "f7bb55d6",
   "metadata": {},
   "outputs": [],
   "source": [
    "# Convert image to grayscale\n",
    "gray = cv2.cvtColor(img, cv2.COLOR_BGR2GRAY)"
   ]
  },
  {
   "cell_type": "code",
   "execution_count": 7,
   "id": "a82cb578",
   "metadata": {},
   "outputs": [],
   "source": [
    "# Apply Gaussian blur to reduce noise\n",
    "blurred = cv2.GaussianBlur(gray, (3, 3), 0)"
   ]
  },
  {
   "cell_type": "code",
   "execution_count": 8,
   "id": "1ef29191",
   "metadata": {},
   "outputs": [],
   "source": [
    "# Apply adaptive thresholding\n",
    "thresh = cv2.adaptiveThreshold(blurred, 255, cv2.ADAPTIVE_THRESH_MEAN_C, cv2.THRESH_BINARY_INV, 15, 5)"
   ]
  },
  {
   "cell_type": "code",
   "execution_count": 9,
   "id": "77de088a",
   "metadata": {},
   "outputs": [],
   "source": [
    "# Further denoising using morphological operations\n",
    "kernel = np.ones((2, 2), np.uint8)\n",
    "opening = cv2.morphologyEx(thresh, cv2.MORPH_OPEN, kernel, iterations=2)\n"
   ]
  },
  {
   "cell_type": "code",
   "execution_count": 10,
   "id": "3d676cb0",
   "metadata": {},
   "outputs": [],
   "source": [
    "# Invert the image\n",
    "inverted_img = cv2.bitwise_not(opening)"
   ]
  },
  {
   "cell_type": "code",
   "execution_count": 11,
   "id": "144ae922",
   "metadata": {},
   "outputs": [],
   "source": [
    "# Display preprocessed image\n",
    "cv2.imshow('Preprocessed Image', inverted_img)\n",
    "cv2.waitKey(0)  \n",
    "cv2.destroyAllWindows()  "
   ]
  },
  {
   "cell_type": "code",
   "execution_count": 12,
   "id": "1af2d3b1",
   "metadata": {},
   "outputs": [
    {
     "name": "stdout",
     "output_type": "stream",
     "text": [
      "Extracted Text: Extract and Mining Communities in Web\n",
      "\n",
      "\n"
     ]
    }
   ],
   "source": [
    "# Extract text from preprocessed image\n",
    "text = pytesseract.image_to_string(inverted_img)\n",
    "print(\"Extracted Text:\", text)\n"
   ]
  },
  {
   "cell_type": "code",
   "execution_count": 13,
   "id": "d012665f",
   "metadata": {},
   "outputs": [],
   "source": [
    "# Perform spell checking and auto-correction\n",
    "spell = SpellChecker()\n",
    "corrected_text = []\n",
    "for word in text.split():\n",
    "    # Check if the word is misspelled\n",
    "    if spell.unknown([word]):\n",
    "        # Get the most likely correction\n",
    "        correction = spell.correction(word)\n",
    "        corrected_text.append(correction)\n",
    "    else:\n",
    "        corrected_text.append(word)"
   ]
  },
  {
   "cell_type": "code",
   "execution_count": 14,
   "id": "9f5d6b0b",
   "metadata": {},
   "outputs": [],
   "source": [
    "# Join the corrected words back into a sentence\n",
    "corrected_text = ' '.join(corrected_text)\n"
   ]
  },
  {
   "cell_type": "code",
   "execution_count": 15,
   "id": "54a231f8",
   "metadata": {},
   "outputs": [
    {
     "name": "stdout",
     "output_type": "stream",
     "text": [
      "Corrected Text: Extract and Mining Communities in Web\n"
     ]
    }
   ],
   "source": [
    "print(\"Corrected Text:\", corrected_text)\n"
   ]
  },
  {
   "cell_type": "code",
   "execution_count": 16,
   "id": "59121511",
   "metadata": {},
   "outputs": [],
   "source": [
    "\n",
    "# Get image height and width\n",
    "h_img, w_img = inverted_img.shape"
   ]
  },
  {
   "cell_type": "code",
   "execution_count": 17,
   "id": "538e18aa",
   "metadata": {},
   "outputs": [],
   "source": [
    "# Get bounding boxes for each character\n",
    "boxes = pytesseract.image_to_boxes(inverted_img)"
   ]
  },
  {
   "cell_type": "code",
   "execution_count": 18,
   "id": "01e96e43",
   "metadata": {},
   "outputs": [],
   "source": [
    "# Iterate over each box\n",
    "for b in boxes.splitlines():\n",
    "    b = b.split(' ')\n",
    "    x, y, w, h = int(b[1]), int(b[2]), int(b[3]), int(b[4])\n",
    "    cv2.rectangle(img, (x, h_img - y), (w, h_img - h), (0, 0, 255), 2)\n",
    "    cv2.putText(img, b[0], (x, h_img - y + 25), cv2.FONT_HERSHEY_SIMPLEX, 1, (50, 50, 255), 2)"
   ]
  },
  {
   "cell_type": "markdown",
   "id": "58e36bd7",
   "metadata": {},
   "source": [
    "\n",
    "cv2.imshow('Original Image with Detected Text', img)\n",
    "cv2.waitKey(0)\n",
    "cv2.destroyAllWindows()\n"
   ]
  },
  {
   "cell_type": "markdown",
   "id": "b4e3b33b",
   "metadata": {},
   "source": [
    "# 2nd test\n",
    "\n"
   ]
  },
  {
   "cell_type": "code",
   "execution_count": 40,
   "id": "4bdc2e3d",
   "metadata": {},
   "outputs": [],
   "source": [
    "img = cv2.imread('a.png')"
   ]
  },
  {
   "cell_type": "code",
   "execution_count": 41,
   "id": "d9aa79f2",
   "metadata": {},
   "outputs": [],
   "source": [
    "# Display original image\n",
    "cv2.imshow('Original Image', img)\n",
    "cv2.waitKey(0)  \n",
    "cv2.destroyAllWindows()"
   ]
  },
  {
   "cell_type": "code",
   "execution_count": 42,
   "id": "e6fa4c05",
   "metadata": {},
   "outputs": [],
   "source": [
    "# Convert image to grayscale\n",
    "gray = cv2.cvtColor(img, cv2.COLOR_BGR2GRAY)"
   ]
  },
  {
   "cell_type": "code",
   "execution_count": 43,
   "id": "3353ca7c",
   "metadata": {},
   "outputs": [],
   "source": [
    "# Apply Gaussian blur to reduce noise\n",
    "blurred = cv2.GaussianBlur(gray, (3, 3), 0)\n"
   ]
  },
  {
   "cell_type": "code",
   "execution_count": 44,
   "id": "68b39583",
   "metadata": {},
   "outputs": [],
   "source": [
    "# Apply adaptive thresholding\n",
    "thresh = cv2.adaptiveThreshold(blurred, 255, cv2.ADAPTIVE_THRESH_MEAN_C, cv2.THRESH_BINARY_INV, 15, 5)\n"
   ]
  },
  {
   "cell_type": "code",
   "execution_count": 45,
   "id": "40a766f2",
   "metadata": {},
   "outputs": [],
   "source": [
    "# Further denoising using morphological operations\n",
    "kernel = np.ones((2, 2), np.uint8)\n",
    "opening = cv2.morphologyEx(thresh, cv2.MORPH_OPEN, kernel, iterations=2)"
   ]
  },
  {
   "cell_type": "code",
   "execution_count": 46,
   "id": "d9bbace4",
   "metadata": {},
   "outputs": [],
   "source": [
    "# Invert the image\n",
    "inverted_img = cv2.bitwise_not(opening)"
   ]
  },
  {
   "cell_type": "code",
   "execution_count": 47,
   "id": "7e4e9024",
   "metadata": {},
   "outputs": [],
   "source": [
    "# Display preprocessed image\n",
    "cv2.imshow('Preprocessed Image', inverted_img)\n",
    "cv2.waitKey(0)  \n",
    "cv2.destroyAllWindows()  "
   ]
  },
  {
   "cell_type": "code",
   "execution_count": 48,
   "id": "60551e2e",
   "metadata": {},
   "outputs": [
    {
     "name": "stdout",
     "output_type": "stream",
     "text": [
      "Extracted Text: Te was the best of\n",
      "times, ie was the worse\n",
      "of times, it was the age\n",
      "of wisdom, it was the\n",
      "ve al foolishness...\n",
      "\n",
      "\n"
     ]
    }
   ],
   "source": [
    "# Extract text from preprocessed image\n",
    "text = pytesseract.image_to_string(inverted_img)\n",
    "print(\"Extracted Text:\", text)"
   ]
  },
  {
   "cell_type": "code",
   "execution_count": 49,
   "id": "1b123623",
   "metadata": {},
   "outputs": [],
   "source": [
    "# Perform spell checking and auto-correction\n",
    "spell = SpellChecker()\n",
    "corrected_text = []\n",
    "for word in text.split():\n",
    "    # Check if the word is misspelled\n",
    "    if spell.unknown([word]):\n",
    "        # Get the most likely correction\n",
    "        correction = spell.correction(word)\n",
    "        corrected_text.append(correction)\n",
    "    else:\n",
    "        corrected_text.append(word)"
   ]
  },
  {
   "cell_type": "code",
   "execution_count": null,
   "id": "3b8924bc",
   "metadata": {},
   "outputs": [],
   "source": []
  },
  {
   "cell_type": "code",
   "execution_count": 50,
   "id": "15703ca1",
   "metadata": {},
   "outputs": [
    {
     "name": "stdout",
     "output_type": "stream",
     "text": [
      "Corrected Text: ['the', 'was', 'the', 'best', 'of', 'times', 'i', 'was', 'the', 'worse', 'of', 'times', 'it', 'was', 'the', 'age', 'of', 'wisdom', 'it', 'was', 'the', 'we', 'a', None]\n"
     ]
    }
   ],
   "source": [
    "print(\"Corrected Text:\", corrected_text)"
   ]
  },
  {
   "cell_type": "code",
   "execution_count": 51,
   "id": "59eb75d5",
   "metadata": {},
   "outputs": [],
   "source": [
    "# Get image height and width\n",
    "h_img, w_img = inverted_img.shape"
   ]
  },
  {
   "cell_type": "code",
   "execution_count": 52,
   "id": "11955b88",
   "metadata": {},
   "outputs": [],
   "source": [
    "# Get bounding boxes for each character\n",
    "boxes = pytesseract.image_to_boxes(inverted_img)"
   ]
  },
  {
   "cell_type": "code",
   "execution_count": 53,
   "id": "225b5eb8",
   "metadata": {},
   "outputs": [],
   "source": [
    "# Iterate over each box\n",
    "for b in boxes.splitlines():\n",
    "    b = b.split(' ')\n",
    "    x, y, w, h = int(b[1]), int(b[2]), int(b[3]), int(b[4])\n",
    "    cv2.rectangle(img, (x, h_img - y), (w, h_img - h), (0, 0, 255), 2)\n",
    "    cv2.putText(img, b[0], (x, h_img - y + 25), cv2.FONT_HERSHEY_SIMPLEX, 1, (50, 50, 255), 2)\n"
   ]
  },
  {
   "cell_type": "code",
   "execution_count": 54,
   "id": "5285d370",
   "metadata": {},
   "outputs": [],
   "source": [
    "# Display original image with detected text\n",
    "cv2.imshow('Original Image with Detected Text', img)\n",
    "cv2.waitKey(0)\n",
    "cv2.destroyAllWindows()"
   ]
  }
 ],
 "metadata": {
  "kernelspec": {
   "display_name": "Python 3 (ipykernel)",
   "language": "python",
   "name": "python3"
  },
  "language_info": {
   "codemirror_mode": {
    "name": "ipython",
    "version": 3
   },
   "file_extension": ".py",
   "mimetype": "text/x-python",
   "name": "python",
   "nbconvert_exporter": "python",
   "pygments_lexer": "ipython3",
   "version": "3.11.5"
  }
 },
 "nbformat": 4,
 "nbformat_minor": 5
}
